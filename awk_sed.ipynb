{
 "cells": [
  {
   "cell_type": "markdown",
   "metadata": {
    "collapsed": true
   },
   "source": [
    "# awk and sed practice\n",
    "\n",
    "## 1. Intro\n",
    "\n",
    "Text files preprocessing is quite important for NLP or Text Mining. \n",
    "\n",
    "These work includes replacing some particular texts; filtering target records; inserting some fields into texts.\n",
    "\n",
    "Of course we can use python to do these jobs. Python scripts can be neat and powerful. The best advantage we can get by using python is that the scripts can be run in different platforms. \n",
    "\n",
    "However, if we take linux as our production environment, linux's text processing tools such as **awk** and **sed** can be more powerful and productive. We can regard these tools as a text processing architecture. By only adding a few lines, we can get the result we want.\n",
    "\n",
    "I will introduce the basic idea and usage of **awk** and **sed** by some simple but frequently used practice.\n",
    "\n",
    "## 2.awk\n",
    "\n",
    "### 2.1 basic grammer\n",
    "\n",
    "``` bash\n",
    "awk [options] 'script' var=value file(s) \n",
    "awk [options] -f scriptfile var=value file(s)\n",
    "```\n",
    "* -F fs, delimiter\n",
    "* -f scripfile, we can read awk code from the scriptfile \n",
    "* -v var=value, send outter var to awk\n",
    "\n",
    "**basic strcture**\n",
    "\n",
    "``` bash\n",
    "awk 'BEGIN{ print \"start\" } pattern{ commands } END{ print \"end\" }' file \n",
    "```\n",
    "\n",
    "First, run BEGIN part once; for every line in the file, do pattern{ commands }; in the end, run END part once.\n"
   ]
  },
  {
   "cell_type": "code",
   "execution_count": 3,
   "metadata": {
    "collapsed": false
   },
   "outputs": [
    {
     "name": "stdout",
     "output_type": "stream",
     "text": [
      "Start\r\n",
      "A line 1nA line 2\r\n",
      "End\r\n"
     ]
    }
   ],
   "source": [
    "echo -e \"A line 1nA line 2\" | awk 'BEGIN{ print \"Start\" } { print } END{ print \"End\" }'"
   ]
  },
  {
   "cell_type": "markdown",
   "metadata": {},
   "source": [
    "### 2.2 Arithmetic operator\n",
    "+ - \n",
    "* / &\t\n",
    "+ - !\t\n",
    "^ ***\t\n",
    "++ --\n"
   ]
  },
  {
   "cell_type": "code",
   "execution_count": null,
   "metadata": {
    "collapsed": true
   },
   "outputs": [],
   "source": []
  },
  {
   "cell_type": "code",
   "execution_count": null,
   "metadata": {
    "collapsed": true
   },
   "outputs": [],
   "source": []
  }
 ],
 "metadata": {
  "anaconda-cloud": {},
  "kernelspec": {
   "display_name": "Bash",
   "language": "bash",
   "name": "bash"
  },
  "language_info": {
   "codemirror_mode": "shell",
   "file_extension": ".sh",
   "mimetype": "text/x-sh",
   "name": "bash"
  }
 },
 "nbformat": 4,
 "nbformat_minor": 0
}
