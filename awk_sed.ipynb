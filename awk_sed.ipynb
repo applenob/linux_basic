{
 "cells": [
  {
   "cell_type": "markdown",
   "metadata": {
    "collapsed": true,
    "nbpresent": {
     "id": "8c3e4d70-828e-4fd2-be7f-714052806cf9"
    }
   },
   "source": [
    "# awk and sed practice\n",
    "\n",
    "## 1. Intro\n",
    "\n",
    "Text files preprocessing is quite important for NLP or Text Mining. \n",
    "\n",
    "These work includes replacing some particular texts; filtering target records; inserting some fields into texts.\n",
    "\n",
    "Of course we can use python to do these jobs. Python scripts can be neat and powerful. The best advantage we can get by using python is that the scripts can be run in different platforms. \n",
    "\n",
    "However, if we take linux as our production environment, linux's text processing tools such as **awk** and **sed** can be more powerful and productive. We can regard these tools as a text processing architecture. By only adding a few lines, we can get the result we want.\n",
    "\n",
    "I will introduce the basic idea and usage of **awk** and **sed** by some simple but frequently used practice.\n",
    "\n",
    "## 2.awk\n",
    "\n",
    "### 2.1 basic grammer\n",
    "\n",
    "``` bash\n",
    "awk [options] 'script' var=value file(s) \n",
    "awk [options] -f scriptfile var=value file(s)\n",
    "```\n",
    "* -F fs, delimiter\n",
    "* -f scripfile, we can read awk code from the scriptfile \n",
    "* -v var=value, send outter var to awk\n",
    "\n",
    "**basic strcture**\n",
    "\n",
    "``` bash\n",
    "awk 'BEGIN{ print \"start\" } pattern{ commands } END{ print \"end\" }' file \n",
    "```\n",
    "\n",
    "First, run BEGIN part once; for every line in the file, do pattern{ commands }; in the end, run END part once.\n"
   ]
  },
  {
   "cell_type": "code",
   "execution_count": 3,
   "metadata": {
    "collapsed": false,
    "nbpresent": {
     "id": "9cdf27e8-566d-41fc-91e0-70bf122d26ba"
    }
   },
   "outputs": [
    {
     "name": "stdout",
     "output_type": "stream",
     "text": [
      "Start\r\n",
      "A line 1nA line 2\r\n",
      "End\r\n"
     ]
    }
   ],
   "source": [
    "echo -e \"A line 1nA line 2\" | awk 'BEGIN{ print \"Start\" } { print } END{ print \"End\" }'"
   ]
  },
  {
   "cell_type": "markdown",
   "metadata": {
    "nbpresent": {
     "id": "467aeff7-9cb9-4479-bc2e-09fe1efaeb03"
    }
   },
   "source": [
    "### 2.2  operator\n",
    "\n",
    "![](https://raw.githubusercontent.com/applenob/linux_basic/master/resource/operator.gif)\n",
    "\n",
    "It's almost as other program languages.\n",
    "\n",
    "### 2.3 inner functions\n",
    "\n",
    "**arithmetic functions**\n",
    "\n",
    "- atan2( y, x )\t\n",
    "- cos( x )\t\n",
    "- sin( x ) \n",
    "- exp( x )\t\n",
    "- log( x )\t\n",
    "- sqrt( x )\t\n",
    "- int( x )\t\n",
    "- rand( ) : return a random number n， 0 <= n < 1\n",
    "- srand( [expr] )\n",
    "\n",
    "**String Functions**\n",
    "\n",
    "- gsub( Ere, Repl, [ In ] )\t: substitute string globally\n",
    "- sub( Ere, Repl, [ In ] )\t: substitute string for the first match.\n",
    "- index( String1, String2 )\t\n",
    "- length [(String)]\t\n",
    "- blength [(String)]\t\n",
    "- substr( String, M, [ N ] )\t\n",
    "- match( String, Ere ) : RSTART: mathed result start index; RLENGTH: mathed result length.\n",
    "- tolower( String )\t\n",
    "- toupper( String )\t\n",
    "- sprintf(Format, Expr, Expr, . . . )\t\n",
    "\n",
    "Ere： regular expression\n",
    "\n",
    "**common funtions**\n",
    "\n",
    "- close( Expression )\t\n",
    "- system(command )\t\n",
    "- Expression | getline [ Variable ]\t\n",
    "- getline [ Variable ] < Expression\t\n",
    "- getline [ Variable ]\n",
    "\n",
    "**inner vars**\n",
    "\n",
    "- \\$0 : whole line\n",
    "- \\$n : #n field\n",
    "- ARGC : arg counts\n",
    "- ARGV : arg vars\n",
    "- ENVIRON : support environment variable\n",
    "- FILENAME \n",
    "- FNR : record number of file \n",
    "- FS : field seperator\n",
    "- RS : record seperator\n",
    "- NF : number of fields\n",
    "- NR : record number now\n",
    "- OFS : outter field seperator\n",
    "- ORS : outter record seperator"
   ]
  },
  {
   "cell_type": "markdown",
   "metadata": {
    "nbpresent": {
     "id": "0436e2f2-6f78-4e0b-9f35-8e96b3fcdd58"
    }
   },
   "source": [
    "### 2.4 practice #1\n",
    "\n",
    "Firstly, check out our sample data file:\n"
   ]
  },
  {
   "cell_type": "code",
   "execution_count": 4,
   "metadata": {
    "collapsed": false,
    "nbpresent": {
     "id": "a5b3390b-1c23-425d-b42e-cbd0618016b9"
    }
   },
   "outputs": [
    {
     "name": "stdout",
     "output_type": "stream",
     "text": [
      "CONTEXT1    APP#APP1    LABEL0\r\n",
      "CONTEXT1    APP#APP1    LABEL1\r\n",
      "CONTEXT1    APP#APP2    LABEL1\r\n",
      "CONTEXT2    APP#APP2    LABEL0\r\n",
      "CONTEXT2    APP#APP3    LABEL1\r\n",
      "CONTEXT3    APP#APP1    LABEL0\r\n",
      "CONTEXT3    APP#APP2    LABEL1"
     ]
    }
   ],
   "source": [
    "cat data.txt"
   ]
  },
  {
   "cell_type": "markdown",
   "metadata": {
    "nbpresent": {
     "id": "c0a09ebd-fc38-4ee6-a1bf-948eb9f1ccdb"
    }
   },
   "source": [
    "Suppose we want to get basic statistic information about this text file, **get the count of CONTEXT1**, in this case.\n",
    "\n",
    "We can do like this:"
   ]
  },
  {
   "cell_type": "code",
   "execution_count": 10,
   "metadata": {
    "collapsed": false,
    "nbpresent": {
     "id": "ed7769d2-6a47-413b-bdfe-38ccde9ef53d"
    }
   },
   "outputs": [
    {
     "name": "stdout",
     "output_type": "stream",
     "text": [
      "# of CONTEXT1 is: 3\r\n"
     ]
    }
   ],
   "source": [
    "awk 'BEGIN{count=0}{if($1==\"CONTEXT1\"){count++}}END{print \"# of CONTEXT1 is: \"count}' data.txt"
   ]
  },
  {
   "cell_type": "markdown",
   "metadata": {
    "nbpresent": {
     "id": "b1634bef-3450-4941-b467-6e6f7b4b489f"
    }
   },
   "source": [
    "### 2.5 practice #2\n",
    "\n",
    "Now we want to do something else with this data. Suppose we want to substitute all the filed #2 from **APP#APP2** to **#APP2%APP2**. \n",
    "\n",
    "I know it may seem strange to do that, but it is a good practice for substitution.\n",
    "\n",
    "In order to make this more clear, let's seperate this operation into 2 steps. \n",
    "\n",
    "First, substitute all the filed #2 from **APP#APP2** to **#APP2**."
   ]
  },
  {
   "cell_type": "code",
   "execution_count": 11,
   "metadata": {
    "collapsed": false,
    "nbpresent": {
     "id": "d0c03a18-86b3-4070-9dff-8a426f90f6bd"
    }
   },
   "outputs": [
    {
     "name": "stdout",
     "output_type": "stream",
     "text": [
      "CONTEXT1 #APP1 LABEL0\r\n",
      "CONTEXT1 #APP1 LABEL1\r\n",
      "CONTEXT1 #APP2 LABEL1\r\n",
      "CONTEXT2 #APP2 LABEL0\r\n",
      "CONTEXT2 #APP3 LABEL1\r\n",
      "CONTEXT3 #APP1 LABEL0\r\n",
      "CONTEXT3 #APP2 LABEL1\r\n"
     ]
    }
   ],
   "source": [
    "awk '{sub(/[A-Z]+#/,\"#\",$2);print $0}' data.txt"
   ]
  },
  {
   "cell_type": "markdown",
   "metadata": {
    "nbpresent": {
     "id": "3f756d2a-21fb-4cea-9225-e75ab761885d"
    }
   },
   "source": [
    "The second step is more complicated. We need get the string that matches the regular expression for substitution.\n",
    "\n",
    "We can do this job by using the **match** function with **RSTART** and **RLENGTH**."
   ]
  },
  {
   "cell_type": "code",
   "execution_count": 27,
   "metadata": {
    "collapsed": false,
    "nbpresent": {
     "id": "435f260d-f9fd-487f-944b-7df6f27f5b53"
    }
   },
   "outputs": [
    {
     "name": "stdout",
     "output_type": "stream",
     "text": [
      "CONTEXT1 #APP1%APP1 LABEL0\r\n",
      "CONTEXT1 #APP1%APP1 LABEL1\r\n",
      "CONTEXT1 #APP2%APP2 LABEL1\r\n",
      "CONTEXT2 #APP2%APP2 LABEL0\r\n",
      "CONTEXT2 #APP3%APP3 LABEL1\r\n",
      "CONTEXT3 #APP1%APP1 LABEL0\r\n",
      "CONTEXT3 #APP2%APP2 LABEL1\r\n"
     ]
    }
   ],
   "source": [
    "awk '{sub(/[A-Z]+#/,\"#\",$2);match($2,/#[A-Z]+[0-9]/);app_name=substr($2,RSTART+1,RLENGTH-1);\\\n",
    "sub(\"#\"app_name,\"#\"app_name\"%\"app_name,$2); print $0}' data.txt"
   ]
  },
  {
   "cell_type": "markdown",
   "metadata": {
    "nbpresent": {
     "id": "7fb10624-f254-4dec-9300-a49db31f10f6"
    }
   },
   "source": [
    "As we can see, the code is not neat enough.\n",
    "\n",
    "Instead, we can use **sed** for substitution tasks.\n",
    "\n",
    "Let **awk** do the statistical job, and let **sed** do the substitution job.\n",
    "\n",
    "### 2.6 practice #3\n",
    "\n",
    "Suppose we want to know all the names of apps, we can use **awk** and **uniq** together:"
   ]
  },
  {
   "cell_type": "code",
   "execution_count": 29,
   "metadata": {
    "collapsed": false,
    "nbpresent": {
     "id": "b5a0a654-4fea-4cfb-be8e-bf03829f13b7"
    }
   },
   "outputs": [
    {
     "name": "stdout",
     "output_type": "stream",
     "text": [
      "APP#APP1\r\n",
      "APP#APP2\r\n",
      "APP#APP3\r\n",
      "APP#APP1\r\n",
      "APP#APP2\r\n"
     ]
    }
   ],
   "source": [
    "awk '{print $2}' data.txt | uniq"
   ]
  },
  {
   "cell_type": "markdown",
   "metadata": {
    "nbpresent": {
     "id": "2fea8b79-3c8d-4db1-b219-68d0922bf533"
    }
   },
   "source": [
    "It seems that uniq did not work. "
   ]
  },
  {
   "cell_type": "code",
   "execution_count": 30,
   "metadata": {
    "collapsed": false,
    "nbpresent": {
     "id": "f957e6f2-0c7f-4df6-a66d-c27b578be996"
    }
   },
   "outputs": [
    {
     "name": "stdout",
     "output_type": "stream",
     "text": [
      "APP#APP1\r\n",
      "APP#APP2\r\n",
      "APP#APP3\r\n"
     ]
    }
   ],
   "source": [
    "awk '{print $2}' data.txt | sort | uniq"
   ]
  },
  {
   "cell_type": "markdown",
   "metadata": {
    "nbpresent": {
     "id": "4f9223cb-d896-4b2a-86f6-c5a65deb358c"
    }
   },
   "source": [
    "or use one more tricky way, (the **seen** array can be any other name):"
   ]
  },
  {
   "cell_type": "code",
   "execution_count": 42,
   "metadata": {
    "collapsed": false,
    "nbpresent": {
     "id": "5bd46aa7-7453-467a-8e3d-2ab21ef4692f"
    }
   },
   "outputs": [
    {
     "name": "stdout",
     "output_type": "stream",
     "text": [
      "CONTEXT1    APP#APP1    LABEL0\r\n",
      "CONTEXT1    APP#APP2    LABEL1\r\n",
      "CONTEXT2    APP#APP3    LABEL1\r\n"
     ]
    }
   ],
   "source": [
    "awk '!seen[$2]++' data.txt"
   ]
  },
  {
   "cell_type": "markdown",
   "metadata": {
    "nbpresent": {
     "id": "ec5890a1-1205-4612-a3df-6685001e305a"
    }
   },
   "source": [
    "Which is short for:"
   ]
  },
  {
   "cell_type": "code",
   "execution_count": 55,
   "metadata": {
    "collapsed": false,
    "nbpresent": {
     "id": "0cfcf99f-a682-4d4d-b925-b78b5d8ef187"
    }
   },
   "outputs": [
    {
     "name": "stdout",
     "output_type": "stream",
     "text": [
      "CONTEXT1    APP#APP1    LABEL0\r\n",
      "CONTEXT1    APP#APP2    LABEL1\r\n",
      "CONTEXT2    APP#APP3    LABEL1\r\n"
     ]
    }
   ],
   "source": [
    "awk '!seen[$2]++{print $0}' data.txt"
   ]
  },
  {
   "cell_type": "markdown",
   "metadata": {
    "nbpresent": {
     "id": "f53a82e1-2334-4723-841e-a652ef9a797a"
    }
   },
   "source": [
    "Which is short for:"
   ]
  },
  {
   "cell_type": "code",
   "execution_count": 53,
   "metadata": {
    "collapsed": false,
    "nbpresent": {
     "id": "f564587f-1b0c-462a-8d1f-21d9cc85f8e8"
    }
   },
   "outputs": [
    {
     "name": "stdout",
     "output_type": "stream",
     "text": [
      "CONTEXT1    APP#APP1    LABEL0\r\n",
      "CONTEXT1    APP#APP2    LABEL1\r\n",
      "CONTEXT2    APP#APP3    LABEL1\r\n"
     ]
    }
   ],
   "source": [
    "awk '{if (!seen[$2]) {print $0; seen[$2]++} }' data.txt"
   ]
  },
  {
   "cell_type": "markdown",
   "metadata": {
    "nbpresent": {
     "id": "71513fde-0974-4622-94b7-643097ee6c05"
    }
   },
   "source": [
    "I believe this is the best practice for getting unique result, since it costs least memory."
   ]
  },
  {
   "cell_type": "markdown",
   "metadata": {},
   "source": [
    "## 3. sed"
   ]
  },
  {
   "cell_type": "markdown",
   "metadata": {},
   "source": [
    "sed solution for practice #2. Since **sed** provides **&** representing matched string and **\\\\n** representing matched substring, sed solution is much simpler."
   ]
  },
  {
   "cell_type": "code",
   "execution_count": 57,
   "metadata": {
    "collapsed": false
   },
   "outputs": [
    {
     "name": "stdout",
     "output_type": "stream",
     "text": [
      "CONTEXT1    #APP1    LABEL0\r\n",
      "CONTEXT1    #APP1    LABEL1\r\n",
      "CONTEXT1    #APP2    LABEL1\r\n",
      "CONTEXT2    #APP2    LABEL0\r\n",
      "CONTEXT2    #APP3    LABEL1\r\n",
      "CONTEXT3    #APP1    LABEL0\r\n",
      "CONTEXT3    #APP2    LABEL1"
     ]
    }
   ],
   "source": [
    "sed 's/[A-Z]\\+#/#/g' data.txt"
   ]
  },
  {
   "cell_type": "code",
   "execution_count": 60,
   "metadata": {
    "collapsed": false
   },
   "outputs": [
    {
     "name": "stdout",
     "output_type": "stream",
     "text": [
      "CONTEXT1    #APP1%APP1    LABEL0\r\n",
      "CONTEXT1    #APP1%APP1    LABEL1\r\n",
      "CONTEXT1    #APP2%APP2    LABEL1\r\n",
      "CONTEXT2    #APP2%APP2    LABEL0\r\n",
      "CONTEXT2    #APP3%APP3    LABEL1\r\n",
      "CONTEXT3    #APP1%APP1    LABEL0\r\n",
      "CONTEXT3    #APP2%APP2    LABEL1"
     ]
    }
   ],
   "source": [
    "sed 's/[A-Z]\\+#/#/g' data.txt | sed 's/#\\([A-Z]\\+[0-9]\\)/&%\\1/g'"
   ]
  },
  {
   "cell_type": "markdown",
   "metadata": {},
   "source": [
    "It's not that easy to read those sed command, but it's realy convinient to use them."
   ]
  },
  {
   "cell_type": "code",
   "execution_count": null,
   "metadata": {
    "collapsed": true
   },
   "outputs": [],
   "source": []
  }
 ],
 "metadata": {
  "anaconda-cloud": {},
  "kernelspec": {
   "display_name": "Bash",
   "language": "bash",
   "name": "bash"
  },
  "language_info": {
   "codemirror_mode": "shell",
   "file_extension": ".sh",
   "mimetype": "text/x-sh",
   "name": "bash"
  }
 },
 "nbformat": 4,
 "nbformat_minor": 0
}
